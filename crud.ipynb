{
  "nbformat": 4,
  "nbformat_minor": 0,
  "metadata": {
    "colab": {
      "provenance": []
    },
    "kernelspec": {
      "name": "python3",
      "display_name": "Python 3"
    },
    "language_info": {
      "name": "python"
    }
  },
  "cells": [
    {
      "cell_type": "markdown",
      "source": [
        "### **Função PDF — `extrair_texto_e_tabela()`**\n",
        "\n",
        "Essa função serve para **ler um arquivo PDF** e **extrair informações importantes dele**, de forma que possamos usar esses dados em análises ou relatórios. Ela faz duas coisas principais:\n",
        "\n",
        "1. **Pega o texto da primeira página:**\n",
        "\n",
        "   * A função abre o PDF e olha só a primeira página.\n",
        "   * Todo o texto que estiver nessa página é extraído e mostrado no console.\n",
        "   * Assim, você consegue ver rapidamente o conteúdo do documento sem precisar abrir o PDF manualmente.\n",
        "\n",
        "2. **Pega a primeira tabela da página:**\n",
        "\n",
        "   * Se a página tiver tabelas, a função pega **apenas a primeira**.\n",
        "   * Ela transforma a tabela em um **DataFrame**, que é uma tabela organizada que o Python consegue manipular facilmente.\n",
        "   * Esse DataFrame também é mostrado no console para que você veja como os dados ficaram organizados.\n",
        "\n",
        "**O que a função devolve:**\n",
        "\n",
        "* Uma **string** com todo o texto da primeira página (`texto_completo`).\n",
        "* Um **DataFrame** com a primeira tabela (`tabela_df`), ou `None` caso não exista tabela.\n",
        "\n",
        "**Resumo prático:**\n",
        "Essa função permite pegar **texto e tabela de PDFs** de forma rápida e automática, tornando possível trabalhar com esses dados em gráficos, análises ou relatórios, sem precisar digitar nada manualmente.\n",
        "\n"
      ],
      "metadata": {
        "id": "otOs9Fb0VvOt"
      }
    },
    {
      "cell_type": "code",
      "source": [
        "pip install pdfplumber"
      ],
      "metadata": {
        "id": "xp5GnqQixjlt"
      },
      "execution_count": null,
      "outputs": []
    },
    {
      "cell_type": "code",
      "execution_count": null,
      "metadata": {
        "id": "0iMEFIHbS5d2",
        "colab": {
          "base_uri": "https://localhost:8080/",
          "height": 383
        },
        "outputId": "f444f661-5694-401c-f6af-ce7b385434e5"
      },
      "outputs": [
        {
          "output_type": "error",
          "ename": "ModuleNotFoundError",
          "evalue": "No module named 'pdfplumber'",
          "traceback": [
            "\u001b[0;31m---------------------------------------------------------------------------\u001b[0m",
            "\u001b[0;31mModuleNotFoundError\u001b[0m                       Traceback (most recent call last)",
            "\u001b[0;32m/tmp/ipython-input-990182265.py\u001b[0m in \u001b[0;36m<cell line: 0>\u001b[0;34m()\u001b[0m\n\u001b[1;32m      1\u001b[0m \u001b[0;31m# PDF\u001b[0m\u001b[0;34m\u001b[0m\u001b[0;34m\u001b[0m\u001b[0m\n\u001b[0;32m----> 2\u001b[0;31m \u001b[0;32mimport\u001b[0m \u001b[0mpdfplumber\u001b[0m\u001b[0;34m\u001b[0m\u001b[0;34m\u001b[0m\u001b[0m\n\u001b[0m\u001b[1;32m      3\u001b[0m \u001b[0;32mimport\u001b[0m \u001b[0mpandas\u001b[0m \u001b[0;32mas\u001b[0m \u001b[0mpd\u001b[0m\u001b[0;34m\u001b[0m\u001b[0;34m\u001b[0m\u001b[0m\n\u001b[1;32m      4\u001b[0m \u001b[0;34m\u001b[0m\u001b[0m\n\u001b[1;32m      5\u001b[0m \u001b[0;32mdef\u001b[0m \u001b[0mextrair_texto_e_tabela\u001b[0m\u001b[0;34m(\u001b[0m\u001b[0mcaminho_pdf\u001b[0m\u001b[0;34m)\u001b[0m\u001b[0;34m:\u001b[0m\u001b[0;34m\u001b[0m\u001b[0;34m\u001b[0m\u001b[0m\n",
            "\u001b[0;31mModuleNotFoundError\u001b[0m: No module named 'pdfplumber'",
            "",
            "\u001b[0;31m---------------------------------------------------------------------------\u001b[0;32m\nNOTE: If your import is failing due to a missing package, you can\nmanually install dependencies using either !pip or !apt.\n\nTo view examples of installing some common dependencies, click the\n\"Open Examples\" button below.\n\u001b[0;31m---------------------------------------------------------------------------\u001b[0m\n"
          ],
          "errorDetails": {
            "actions": [
              {
                "action": "open_url",
                "actionText": "Open Examples",
                "url": "/notebooks/snippets/importing_libraries.ipynb"
              }
            ]
          }
        }
      ],
      "source": [
        "# PDF\n",
        "import pdfplumber\n",
        "import pandas as pd\n",
        "\n",
        "def extrair_texto_e_tabela(caminho_pdf):\n",
        "    \"\"\"\n",
        "    Extrai texto e a primeira tabela de um arquivo PDF.\n",
        "\n",
        "    Parâmetros:\n",
        "        caminho_pdf (str): Caminho do arquivo PDF.\n",
        "\n",
        "    Retorna:\n",
        "        tuple: (texto_completo, tabela_df)\n",
        "               texto_completo -> str com o texto da primeira página\n",
        "               tabela_df -> DataFrame com a tabela extraída (ou None se não houver tabela)\n",
        "    \"\"\"\n",
        "    with pdfplumber.open(caminho_pdf) as pdf:\n",
        "        primeira_pagina = pdf.pages[0]\n",
        "\n",
        "        # Extrai todo o texto da primeira página\n",
        "        texto_completo = primeira_pagina.extract_text()\n",
        "        print(\"\\n--- Texto Extraído ---\")\n",
        "        print(texto_completo or \"Nenhum texto encontrado.\")\n",
        "\n",
        "        # Extrai a primeira tabela encontrada\n",
        "        tabelas = primeira_pagina.extract_tables()\n",
        "        tabela_df = None\n",
        "\n",
        "        if tabelas:\n",
        "            print(\"\\n--- Tabela Extraída ---\")\n",
        "            tabela_encontrada = tabelas[0]\n",
        "\n",
        "            # Converte para DataFrame\n",
        "            tabela_df = pd.DataFrame(tabela_encontrada[1:], columns=tabela_encontrada[0])\n",
        "            print(tabela_df)\n",
        "        else:\n",
        "            print(\"\\nNenhuma tabela foi encontrada no PDF.\")\n",
        "\n",
        "    return texto_completo, tabela_df\n",
        "\n",
        "\n",
        "# Exemplo de uso direto\n",
        "if __name__ == \"__main__\":\n",
        "    texto, tabela = extrair_texto_e_tabela(\"DadosSinteticos-personas1.pdf\")"
      ]
    },
    {
      "cell_type": "markdown",
      "source": [
        "### **Função DOCX — `extrair_texto_docx()`**\n",
        "\n",
        "Essa função serve para **extrair todo o texto de um arquivo Word (.docx)** e retornar o conteúdo de forma organizada, pronta para análise ou relatórios.\n",
        "\n",
        "**Como funciona:**\n",
        "\n",
        "1. **Abre o arquivo DOCX:**\n",
        "\n",
        "   * Recebe o caminho do arquivo a ser lido (`caminho_docx`).\n",
        "   * Usa a biblioteca `python-docx` para abrir o documento.\n",
        "\n",
        "2. **Extrai o texto dos parágrafos:**\n",
        "\n",
        "   * Percorre todos os parágrafos do documento.\n",
        "   * Ignora parágrafos vazios.\n",
        "   * Salva cada parágrafo como um item de uma **lista de strings**.\n",
        "\n",
        "3. **Exibe o texto extraído:**\n",
        "\n",
        "   * Imprime no console todo o texto lido, permitindo visualizar rapidamente o conteúdo do documento.\n",
        "\n",
        "**O que a função devolve:**\n",
        "\n",
        "* `texto_paragrafos` → uma lista com o texto de cada parágrafo.\n",
        "* Retorna `None` se o arquivo não for encontrado ou ocorrer algum erro na leitura.\n",
        "\n",
        "**Resumo prático:**\n",
        "Funciona de forma **muito parecida com a função do PDF**: abre o arquivo, lê o conteúdo textual e retorna uma estrutura de dados (lista) pronta para análise, gráficos ou relatórios, sem precisar abrir o Word manualmente.\n"
      ],
      "metadata": {
        "id": "suiOmLFtXtUE"
      }
    },
    {
      "cell_type": "code",
      "source": [
        "pip install python-docx"
      ],
      "metadata": {
        "id": "U6kg_KGL0SqB"
      },
      "execution_count": null,
      "outputs": []
    },
    {
      "cell_type": "code",
      "source": [
        "# DOCS\n",
        "import docx\n",
        "\n",
        "def extrair_texto_docx(caminho_docx):\n",
        "    \"\"\"\n",
        "    Extrai e retorna o texto de um arquivo DOCX.\n",
        "\n",
        "    Parâmetros:\n",
        "        caminho_docx (str): Caminho do arquivo .docx\n",
        "\n",
        "    Retorna:\n",
        "        list: Lista de strings, onde cada item representa um parágrafo do documento.\n",
        "    \"\"\"\n",
        "    try:\n",
        "        # Abre o arquivo DOCX\n",
        "        documento = docx.Document(caminho_docx)\n",
        "\n",
        "        # Extrai o texto de cada parágrafo\n",
        "        texto_paragrafos = [p.text for p in documento.paragraphs if p.text.strip()]\n",
        "\n",
        "        print(\"\\n--- Texto Extraído ---\")\n",
        "        for linha in texto_paragrafos:\n",
        "            print(linha)\n",
        "\n",
        "        return texto_paragrafos\n",
        "\n",
        "    except FileNotFoundError:\n",
        "        print(f\"Erro: O arquivo '{caminho_docx}' não foi encontrado.\")\n",
        "        return None\n",
        "    except Exception as e:\n",
        "        print(f\"Ocorreu um erro ao ler o arquivo DOCX: {e}\")\n",
        "        return None\n",
        "\n",
        "\n",
        "# Exemplo de uso direto\n",
        "if __name__ == \"__main__\":\n",
        "    extrair_texto_docx(\"DadosSinteticos-personas1.docx\")\n"
      ],
      "metadata": {
        "id": "SNcSt76oUhrB",
        "collapsed": true
      },
      "execution_count": null,
      "outputs": []
    },
    {
      "cell_type": "markdown",
      "source": [
        "### **Função Excel — `extrair_dados_excel()`**\n",
        "\n",
        "Essa função serve para **ler os dados de uma aba específica de um arquivo Excel (.xlsx)** e retornar o conteúdo organizado como um **DataFrame**, pronto para análise, relatórios ou gráficos.\n",
        "\n",
        "**Como funciona:**\n",
        "\n",
        "1. **Abre o arquivo Excel:**\n",
        "\n",
        "   * Recebe o caminho do arquivo (`caminho_excel`) e, opcionalmente, o nome da aba a ser lida (`nome_aba`).\n",
        "   * Usa `pandas.ExcelFile()` para abrir o Excel e listar todas as abas disponíveis.\n",
        "\n",
        "2. **Seleciona a aba a ser lida:**\n",
        "\n",
        "   * Se o nome da aba for fornecido e existir, a função lê essa aba.\n",
        "   * Caso contrário, lê automaticamente a **primeira aba disponível**.\n",
        "   * Imprime as abas encontradas e indica qual foi escolhida para leitura.\n",
        "\n",
        "3. **Extrai os dados e exibe:**\n",
        "\n",
        "   * Usa `pd.read_excel()` para ler os dados da aba selecionada.\n",
        "   * Mostra as primeiras linhas em formato tabular legível com `tabulate`, facilitando a visualização.\n",
        "\n",
        "4. **Armazena o DataFrame:**\n",
        "\n",
        "   * A função atribui os dados lidos à variável `data` e retorna esse DataFrame, que pode ser usado diretamente para análises ou geração de gráficos.\n",
        "\n",
        "**O que a função devolve:**\n",
        "\n",
        "* `data` → um **DataFrame** contendo os dados da aba selecionada.\n",
        "* Retorna `None` se o arquivo não existir ou ocorrer algum erro na leitura.\n",
        "\n",
        "**Resumo prático:**\n",
        "Funciona de forma **semelhante às funções de PDF e DOCX**: abre o arquivo, lê o conteúdo (neste caso, uma aba do Excel), mostra uma visualização inicial e retorna os dados em uma estrutura pronta para análise automática."
      ],
      "metadata": {
        "id": "sG7H1GinYF-V"
      }
    },
    {
      "cell_type": "code",
      "source": [
        "# XLSX\n",
        "import pandas as pd\n",
        "from tabulate import tabulate\n",
        "\n",
        "def extrair_dados_excel(caminho_excel, nome_aba=None):\n",
        "    \"\"\"\n",
        "    Extrai os dados de uma aba específica de um arquivo Excel (.xlsx)\n",
        "    e exibe em formato tabular legível.\n",
        "\n",
        "    Retorna o DataFrame lido.\n",
        "    \"\"\"\n",
        "    try:\n",
        "        xls = pd.ExcelFile(caminho_excel)\n",
        "        print(\"Abas disponíveis no arquivo:\", xls.sheet_names)\n",
        "\n",
        "        # Define qual aba será usada\n",
        "        if nome_aba and nome_aba in xls.sheet_names:\n",
        "            aba_escolhida = nome_aba\n",
        "        else:\n",
        "            if nome_aba:\n",
        "                print(f\"A aba '{nome_aba}' não existe. Lendo a primeira aba disponível.\")\n",
        "            aba_escolhida = xls.sheet_names[0]\n",
        "\n",
        "        # Lê a aba selecionada\n",
        "        df = pd.read_excel(caminho_excel, sheet_name=aba_escolhida)\n",
        "\n",
        "        print(f\"\\n--- Dados da aba '{aba_escolhida}' ---\")\n",
        "        print(tabulate(df.head(10), headers='keys', tablefmt='grid'))  # Mostra 10 primeiras linhas\n",
        "\n",
        "        # 🔹 Atribui o DataFrame lido à variável `data`\n",
        "        data = df\n",
        "\n",
        "        return data\n",
        "\n",
        "    except FileNotFoundError:\n",
        "        print(f\"Erro: O arquivo '{caminho_excel}' não foi encontrado.\")\n",
        "        return None\n",
        "    except Exception as e:\n",
        "        print(f\"Ocorreu um erro ao ler o arquivo Excel: {e}\")\n",
        "        return None\n",
        "\n",
        "\n",
        "if __name__ == \"__main__\":\n",
        "    # Lê o Excel e armazena os dados em `data`\n",
        "    data = extrair_dados_excel(\"DadosSinteticos-personas.xlsx\", nome_aba=\"URLs\")\n"
      ],
      "metadata": {
        "id": "XpI16LdaWssB"
      },
      "execution_count": null,
      "outputs": []
    },
    {
      "cell_type": "markdown",
      "source": [
        "### **Função CSV — `extrair_dados_csv()`**\n",
        "**Como funciona:**\n",
        "\n",
        "1. **Abre o arquivo CSV:**\n",
        "\n",
        "   * Recebe o caminho do arquivo (`caminho_csv`) e o separador usado no CSV (`separador`, padrão `,`).\n",
        "   * Usa `pandas.read_csv()` para carregar os dados do arquivo em um DataFrame.\n",
        "\n",
        "2. **Exibe os dados:**\n",
        "\n",
        "   * Imprime as primeiras linhas do arquivo no console usando `tabulate`, em um formato de tabela legível, facilitando a visualização inicial.\n",
        "\n",
        "3. **Tratamento de erros:**\n",
        "\n",
        "   * Detecta se o arquivo não existe e avisa o usuário.\n",
        "   * Detecta problemas de separador incorreto e sugere alternativas (`;` ou `\\t`).\n",
        "   * Captura outros erros gerais de leitura do CSV.\n",
        "\n",
        "**O que a função devolve:**\n",
        "\n",
        "* `df` → um **DataFrame** contendo todos os dados lidos do CSV.\n",
        "* Retorna `None` em caso de erro, seja arquivo inexistente, separador incorreto ou outro problema.\n",
        "\n",
        "**Resumo prático:**\n",
        "Funciona de forma **semelhante às funções de PDF, DOCX e Excel**: abre o arquivo, lê o conteúdo, mostra uma visualização inicial e retorna os dados em uma estrutura pronta para análise, gráficos ou relatórios."
      ],
      "metadata": {
        "id": "2u5CI3xyY3XQ"
      }
    },
    {
      "cell_type": "code",
      "source": [
        "# CSV\n",
        "import pandas as pd\n",
        "from tabulate import tabulate\n",
        "\n",
        "def extrair_dados_csv(caminho_csv, separador=\",\"):\n",
        "    \"\"\"\n",
        "    Lê um arquivo CSV e exibe em formato tabular legível.\n",
        "\n",
        "    Parâmetros:\n",
        "        caminho_csv (str): Caminho do arquivo CSV.\n",
        "        separador (str): Delimitador do CSV (padrão: ',').\n",
        "\n",
        "    Retorna:\n",
        "        DataFrame: Dados lidos do CSV (ou None se houver erro).\n",
        "    \"\"\"\n",
        "    try:\n",
        "        # Lê o CSV com pandas\n",
        "        df = pd.read_csv(caminho_csv, sep=separador)\n",
        "\n",
        "        print(f\"\\n--- Dados do arquivo '{caminho_csv}' ---\")\n",
        "        print(tabulate(df.head(15), headers='keys', tablefmt='grid', showindex=False))\n",
        "\n",
        "        return df\n",
        "\n",
        "    except FileNotFoundError:\n",
        "        print(f\"Erro: O arquivo '{caminho_csv}' não foi encontrado.\")\n",
        "        return None\n",
        "    except pd.errors.ParserError:\n",
        "        print(f\"Erro ao ler o CSV — talvez o separador não seja '{separador}'.\")\n",
        "        print(\"Tente usar separador=';' ou '\\\\t'.\")\n",
        "        return None\n",
        "    except Exception as e:\n",
        "        print(f\"Ocorreu um erro ao ler o CSV: {e}\")\n",
        "        return None\n",
        "\n",
        "\n",
        "# Exemplo de uso direto\n",
        "if __name__ == \"__main__\":\n",
        "    extrair_dados_csv(\"DadosSinteticos-personas - Sheet1.csv\", separador=\";\")\n",
        "\n"
      ],
      "metadata": {
        "id": "5CNjGWvsPrr2"
      },
      "execution_count": null,
      "outputs": []
    },
    {
      "cell_type": "markdown",
      "source": [
        "### **Estatística Descritiva do DataFrame**\n",
        "\n",
        "O código lê o Excel e calcula estatísticas descritivas para todas as colunas, adicionando o Coeficiente de Variação para numéricas. Mostra média, desvio, quartis e frequência de categorias, fornecendo um panorama completo do dataset."
      ],
      "metadata": {
        "id": "0m2RbrZyZUbr"
      }
    },
    {
      "cell_type": "code",
      "source": [
        "arquivo = \"DadosSinteticos-personas.xlsx\"\n",
        "df = pd.read_excel(arquivo)\n",
        "\n",
        "# Estatística descritiva completa (numéricas + categóricas)\n",
        "estatisticas = df.describe(include='all').transpose()\n",
        "\n",
        "# Para as numéricas, adiciona Coeficiente de Variação\n",
        "for col in df.select_dtypes(include='number').columns:\n",
        "    estatisticas.loc[col, 'CV'] = estatisticas.loc[col, 'std'] / estatisticas.loc[col, 'mean']\n",
        "\n",
        "print(\"\\n--- Estatística Descritiva Completa ---\")\n",
        "print(estatisticas)\n",
        "\n"
      ],
      "metadata": {
        "id": "ladwkpK9XbY5"
      },
      "execution_count": null,
      "outputs": []
    },
    {
      "cell_type": "markdown",
      "source": [
        "Além disso, comandos auxiliares ajudam a entender o DataFrame:\n",
        "\n",
        "df.tail() → mostra as últimas 5 linhas do DataFrame.\n",
        "\n",
        "df.info() → resumo do DataFrame: colunas, tipos e valores não nulos.\n",
        "\n",
        "df.shape → retorna tupla (linhas, colunas) do DataFrame."
      ],
      "metadata": {
        "id": "MPFSDw0qbg30"
      }
    },
    {
      "cell_type": "code",
      "source": [
        "df.tail()\n",
        "df.info()\n",
        "df.shape"
      ],
      "metadata": {
        "id": "L92r73yRbj8b"
      },
      "execution_count": null,
      "outputs": []
    },
    {
      "cell_type": "markdown",
      "source": [
        "### **Gráficos de Análise das Personas: Desafios, Motivadores e Problemas Técnicos nos Dados**"
      ],
      "metadata": {
        "id": "ifJ3dgZvQmtO"
      }
    },
    {
      "cell_type": "markdown",
      "source": [
        "### **1️⃣ Gráfico de Barras: “Dores por Persona”**\n",
        "\n",
        "**Objetivo:** Visualizar **quantos desafios cada persona enfrenta**, com base na contagem de itens listados no campo *Dores* (contagem de vírgulas como proxy)."
      ],
      "metadata": {
        "id": "nZuK1hQ4kT65"
      }
    },
    {
      "cell_type": "code",
      "source": [
        "import matplotlib.pyplot as plt\n",
        "\n",
        "# Dados consolidados com base nos insights das personas\n",
        "personas = ['Ana', 'João', 'Miguel', 'Ricardo', 'Sofia']\n",
        "\n",
        "# Número de motivações e dores por persona\n",
        "motivações = [3, 3, 2, 3, 3]\n",
        "dores = [4, 3, 3, 4, 4]\n",
        "\n",
        "# Gráfico de Barras – Comparativo Motivações x Dores\n",
        "import matplotlib.pyplot as plt\n",
        "import numpy as np\n",
        "personas = ['Ana', 'João', 'Miguel', 'Ricardo', 'Sofia']\n",
        "motivações = [3, 3, 2, 3, 3]\n",
        "dores = [4, 3, 3, 4, 4]\n",
        "x = np.arange(len(personas))  # posição das barras\n",
        "largura = 0.35  # largura de cada barra\n",
        "plt.figure(figsize=(10, 6))\n",
        "plt.bar(x - largura/2, motivações, width=largura, label='Motivações', color='steelblue')\n",
        "plt.bar(x + largura/2, dores, width=largura, label='Dores', color='salmon')\n",
        "plt.xticks(x, personas)\n",
        "plt.ylabel('Quantidade')\n",
        "plt.title('Motivações vs Dores por Persona')\n",
        "plt.legend()\n",
        "plt.tight_layout()\n",
        "plt.show()\n"
      ],
      "metadata": {
        "id": "5_BsidM_ntJY"
      },
      "execution_count": null,
      "outputs": []
    },
    {
      "cell_type": "markdown",
      "source": [
        "\n",
        "### **3️⃣ Gráfico de Pizza: “Distribuição dos Problemas Técnicos em Dados Sujos”**\n",
        "\n",
        "**Objetivo:** Visualizar a **frequência relativa** dos **principais problemas técnicos** presentes nos campos de *Dados Sujos das personas.*\n",
        "**negrito**\n",
        "Isso ajuda a identificar quais inconsistências técnicas são mais comuns, permitindo priorizar esforços na limpeza e padronização dos dados.\n"
      ],
      "metadata": {
        "id": "P6oip-NpkWLy"
      }
    },
    {
      "cell_type": "code",
      "source": [
        "# Frequência dos problemas técnicos em Dados Sujos\n",
        "problemas_tecnicos = {\n",
        "    'Datas formatos diferentes': 2,\n",
        "    'Status incoerentes': 1,\n",
        "    'Registros duplicados': 2,\n",
        "    'Campos em branco': 1,\n",
        "    'Colunas trocadas': 1,\n",
        "    'Separadores inconsistentes': 1,\n",
        "    'Erros de digitação': 2,\n",
        "    'Formatação variada': 1\n",
        "}\n",
        "\n",
        "plt.figure(figsize=(8, 8))\n",
        "plt.pie(problemas_tecnicos.values(), labels=problemas_tecnicos.keys(), autopct='%1.1f%%', startangle=140, colors=plt.cm.tab20.colors)\n",
        "plt.title('Distribuição dos Problemas Técnicos em Dados Sujos')\n",
        "plt.tight_layout()\n",
        "plt.show()\n"
      ],
      "metadata": {
        "id": "qQpsMMEHfdx3"
      },
      "execution_count": null,
      "outputs": []
    },
    {
      "cell_type": "markdown",
      "source": [
        "\n",
        "\n",
        "### **3️⃣ Gráfico de Pizza: “Distribuição das Dores Categorizadas”**\n",
        "\n",
        "**Objetivo:** Visualizar a **frequência relativa dos principais tipos de dores** relatadas pelas personas, agrupando-as por **categorias temáticas**.\n"
      ],
      "metadata": {
        "id": "454k34ZHkX15"
      }
    },
    {
      "cell_type": "code",
      "source": [
        "# Gráfico de Pizza – Categorias mais citadas nas dores\n",
        "dores_categorias = {\n",
        "    'Padronização/Duplicação': 4,\n",
        "    'Dispersão de Dados': 3,\n",
        "    'Extração Manual': 2,\n",
        "    'Relatórios Técnicos': 2,\n",
        "    'Bugs/Suporte': 2,\n",
        "    'Aprovações/Comunicação': 2\n",
        "}\n",
        "\n",
        "plt.figure(figsize=(8, 8))\n",
        "plt.pie(dores_categorias.values(), labels=dores_categorias.keys(), autopct='%1.1f%%', startangle=140)\n",
        "plt.title('Distribuição das Dores Categorizadas')\n",
        "plt.tight_layout()\n",
        "plt.show()"
      ],
      "metadata": {
        "id": "ilyH8XVHfgSP"
      },
      "execution_count": null,
      "outputs": []
    }
  ]
}